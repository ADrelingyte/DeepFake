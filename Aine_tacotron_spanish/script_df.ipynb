{
 "cells": [
  {
   "cell_type": "code",
   "execution_count": 4,
   "metadata": {},
   "outputs": [
    {
     "name": "stdout",
     "output_type": "stream",
     "text": [
      "The cumulative sum hits the target value at row: 28792\n"
     ]
    },
    {
     "data": {
      "text/html": [
       "<div>\n",
       "<style scoped>\n",
       "    .dataframe tbody tr th:only-of-type {\n",
       "        vertical-align: middle;\n",
       "    }\n",
       "\n",
       "    .dataframe tbody tr th {\n",
       "        vertical-align: top;\n",
       "    }\n",
       "\n",
       "    .dataframe thead th {\n",
       "        text-align: right;\n",
       "    }\n",
       "</style>\n",
       "<table border=\"1\" class=\"dataframe\">\n",
       "  <thead>\n",
       "    <tr style=\"text-align: right;\">\n",
       "      <th></th>\n",
       "      <th>Unnamed: 0</th>\n",
       "      <th>wav_filename</th>\n",
       "      <th>wav_filesize</th>\n",
       "      <th>transcript</th>\n",
       "      <th>transcript_wav2vec</th>\n",
       "      <th>levenshtein</th>\n",
       "      <th>duration</th>\n",
       "      <th>num_words</th>\n",
       "      <th>client_id</th>\n",
       "      <th>cumulative_sum</th>\n",
       "    </tr>\n",
       "  </thead>\n",
       "  <tbody>\n",
       "    <tr>\n",
       "      <th>8273</th>\n",
       "      <td>84299</td>\n",
       "      <td>train/audio/7423/7705/7423_7705_000143-0002.wav</td>\n",
       "      <td>462764</td>\n",
       "      <td>Et ce n'était plus la sonnerie d'alarme, mais ...</td>\n",
       "      <td>et ce nétait plus lassonnerie delarme mais l'a...</td>\n",
       "      <td>0.976331</td>\n",
       "      <td>10.492517</td>\n",
       "      <td>28</td>\n",
       "      <td>7423</td>\n",
       "      <td>50328.895873</td>\n",
       "    </tr>\n",
       "  </tbody>\n",
       "</table>\n",
       "</div>"
      ],
      "text/plain": [
       "      Unnamed: 0                                     wav_filename  \\\n",
       "8273       84299  train/audio/7423/7705/7423_7705_000143-0002.wav   \n",
       "\n",
       "      wav_filesize                                         transcript  \\\n",
       "8273        462764  Et ce n'était plus la sonnerie d'alarme, mais ...   \n",
       "\n",
       "                                     transcript_wav2vec  levenshtein  \\\n",
       "8273  et ce nétait plus lassonnerie delarme mais l'a...     0.976331   \n",
       "\n",
       "       duration  num_words  client_id  cumulative_sum  \n",
       "8273  10.492517         28       7423    50328.895873  "
      ]
     },
     "metadata": {},
     "output_type": "display_data"
    }
   ],
   "source": [
    "import pandas as pd\n",
    "\n",
    "filename = 'french_df_trainlist.csv'\n",
    "df = pd.read_csv(filename, sep='|')\n",
    "\n",
    "df['cumulative_sum'] = df['duration'].cumsum()\n",
    "\n",
    "target_row = df[df['cumulative_sum'] >= 180000].index[0]\n",
    "\n",
    "print(\"The cumulative sum hits the target value at row:\", target_row)\n",
    "\n",
    "# Reverse the DataFrame\n",
    "df = df.iloc[::-1]\n",
    "\n",
    "# Keep only rows up to the target row\n",
    "df = df.head(target_row + 1)\n",
    "\n",
    "selected_row_df = df.iloc[[target_row]]\n",
    "display(selected_row_df)\n",
    "\n",
    "new_name=\"final_french.csv\"\n",
    "df.to_csv(new_name, sep='|', index=False)\n",
    "\n",
    "\n"
   ]
  },
  {
   "cell_type": "code",
   "execution_count": 7,
   "metadata": {},
   "outputs": [
    {
     "name": "stdout",
     "output_type": "stream",
     "text": [
      "The total number of files in the directory is: 83601\n"
     ]
    }
   ],
   "source": [
    "import os\n",
    "\n",
    "def count_files_in_directory(directory_path):\n",
    "    files = os.listdir(directory_path)\n",
    "    file_count = len(files)\n",
    "    return file_count\n",
    "\n",
    "directory_path = '/home/adrelingyte/workspace/DeepFake/Aine_tacotron_spanish/vocoders/deep_fake_project/df_datset/wav_files'\n",
    "total_files = count_files_in_directory(directory_path)\n",
    "\n",
    "print(f'The total number of files in the directory is: {total_files}')\n",
    "\n"
   ]
  },
  {
   "cell_type": "code",
   "execution_count": 9,
   "metadata": {},
   "outputs": [
    {
     "name": "stdout",
     "output_type": "stream",
     "text": [
      "Error parsing file: /home/adrelingyte/workspace/DeepFake/Aine_tacotron_spanish/vocoders/deep_fake_project/df_datset/final_dutch.csv\n",
      "Error details: Error tokenizing data. C error: Expected 4 fields in line 16, saw 6\n",
      "\n",
      "Error parsing file: /home/adrelingyte/workspace/DeepFake/Aine_tacotron_spanish/vocoders/deep_fake_project/df_datset/final_french.csv\n",
      "Error details: Error tokenizing data. C error: Expected 1 fields in line 3, saw 4\n",
      "\n",
      "Error parsing file: /home/adrelingyte/workspace/DeepFake/Aine_tacotron_spanish/vocoders/deep_fake_project/df_datset/final_german.csv\n",
      "Error details: Error tokenizing data. C error: Expected 1 fields in line 7, saw 4\n",
      "\n",
      "Error parsing file: /home/adrelingyte/workspace/DeepFake/Aine_tacotron_spanish/vocoders/deep_fake_project/df_datset/final_spanish.csv\n",
      "Error details: Error tokenizing data. C error: Expected 4 fields in line 25, saw 6\n",
      "\n",
      "The total number of rows in all CSV files is: 0\n"
     ]
    }
   ],
   "source": [
    "import pandas as pd\n",
    "\n",
    "def count_rows_in_csv(file_path):\n",
    "    try:\n",
    "        df = pd.read_csv(file_path)\n",
    "        row_count = len(df)\n",
    "        return row_count\n",
    "    except pd.errors.ParserError as e:\n",
    "        print(f\"Error parsing file: {file_path}\")\n",
    "        print(f\"Error details: {e}\")\n",
    "        return 0\n",
    "    except FileNotFoundError:\n",
    "        print(f\"File not found: {file_path}\")\n",
    "        return 0\n",
    "\n",
    "# Replace 'file1.csv', 'file2.csv', 'file3.csv', and 'file4.csv' with your actual CSV file paths\n",
    "file_paths = [\n",
    "    '/home/adrelingyte/workspace/DeepFake/Aine_tacotron_spanish/vocoders/deep_fake_project/df_datset/final_dutch.csv',\n",
    "    '/home/adrelingyte/workspace/DeepFake/Aine_tacotron_spanish/vocoders/deep_fake_project/df_datset/final_french.csv',\n",
    "    '/home/adrelingyte/workspace/DeepFake/Aine_tacotron_spanish/vocoders/deep_fake_project/df_datset/final_german.csv',\n",
    "    '/home/adrelingyte/workspace/DeepFake/Aine_tacotron_spanish/vocoders/deep_fake_project/df_datset/final_spanish.csv'\n",
    "]\n",
    "\n",
    "total_rows = sum(count_rows_in_csv(file_path) for file_path in file_paths)\n",
    "\n",
    "print(f'The total number of rows in all CSV files is: {total_rows}')\n",
    "\n"
   ]
  },
  {
   "cell_type": "code",
   "execution_count": 10,
   "metadata": {},
   "outputs": [
    {
     "name": "stdout",
     "output_type": "stream",
     "text": [
      "The total number of rows in all CSV files is: 121804\n"
     ]
    }
   ],
   "source": [
    "import pandas as pd\n",
    "\n",
    "def count_rows_in_csv(file_path):\n",
    "    try:\n",
    "        # Specify the delimiter using the sep parameter\n",
    "        df = pd.read_csv(file_path, sep='|')\n",
    "        row_count = len(df)\n",
    "        return row_count\n",
    "    except pd.errors.ParserError as e:\n",
    "        print(f\"Error parsing file: {file_path}\")\n",
    "        print(f\"Error details: {e}\")\n",
    "        return 0\n",
    "    except FileNotFoundError:\n",
    "        print(f\"File not found: {file_path}\")\n",
    "        return 0\n",
    "\n",
    "# Replace file paths with your actual CSV file paths\n",
    "file_paths = [\n",
    "    '/home/adrelingyte/workspace/DeepFake/Aine_tacotron_spanish/vocoders/deep_fake_project/df_datset/final_dutch.csv',\n",
    "    '/home/adrelingyte/workspace/DeepFake/Aine_tacotron_spanish/vocoders/deep_fake_project/df_datset/final_french.csv',\n",
    "    '/home/adrelingyte/workspace/DeepFake/Aine_tacotron_spanish/vocoders/deep_fake_project/df_datset/final_german.csv',\n",
    "    '/home/adrelingyte/workspace/DeepFake/Aine_tacotron_spanish/vocoders/deep_fake_project/df_datset/final_spanish.csv'\n",
    "]\n",
    "\n",
    "total_rows = sum(count_rows_in_csv(file_path) for file_path in file_paths)\n",
    "\n",
    "print(f'The total number of rows in all CSV files is: {total_rows}')\n"
   ]
  }
 ],
 "metadata": {
  "kernelspec": {
   "display_name": "Python 3",
   "language": "python",
   "name": "python3"
  },
  "language_info": {
   "codemirror_mode": {
    "name": "ipython",
    "version": 3
   },
   "file_extension": ".py",
   "mimetype": "text/x-python",
   "name": "python",
   "nbconvert_exporter": "python",
   "pygments_lexer": "ipython3",
   "version": "3.9.2"
  },
  "orig_nbformat": 4
 },
 "nbformat": 4,
 "nbformat_minor": 2
}
